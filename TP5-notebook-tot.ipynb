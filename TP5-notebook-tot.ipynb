{
 "cells": [
  {
   "cell_type": "markdown",
   "metadata": {},
   "source": [
    "# TP Transcriptomique 1 - TP5 - 2020-2021"
   ]
  },
  {
   "cell_type": "markdown",
   "metadata": {},
   "source": [
    "\n",
    "## Analyse de données de puces (MicroArrays)\n",
    "\n",
    "### Adaptation du TP MeV Testis Vs Ovary, sous forme de Jupyter Notebook en R\n",
    "\n",
    "Selon les explications du site https://wiki.bits.vib.be/index.php/Analyze_your_own_microarray_data_in_R/Bioconductor"
   ]
  },
  {
   "cell_type": "markdown",
   "metadata": {},
   "source": [
    "---\n",
    "**Avant toute chose**\n",
    "\n",
    "<mark>Avant de démarrer cette analyse, sauvegardez une copie de ce notebook pour backup. <mark>\n",
    "\n",
    "Vous pouvez aussi faire des copies de ce notebook au fur et à mesure de la progression\n",
    "\n",
    "---\n",
    "\n",
    "__*Rappels sur l'utilisation des notebooks*__\n",
    "\n",
    "- Pour ajouter une nouvelle cellule, cliquez sur l'icône \"+\" dans la barre des menus *\n",
    "- Vous pouvez \"cliquer-glisser\" pour bouger une cellule *\n",
    "- Vous pouvez choisir le type de cellule dans le petit menu déroulant dans la barre des menus : *\n",
    "    - 'Code' pour entrer des lignes de commandes à executer *\n",
    "    - 'Markdown cells' pour ajouter simplement du texte, formatable avec quelques signes *\n",
    "- Pour executer une cellule 'Code', pressez SHIFT+ENTER ou cliquez sur l'icône \"play\" *\n",
    "- Pour afficher une cellule 'Markdown', pressez SHIFT+ENTER ou cliquez sur l'icône \"play\" *\n",
    "- Pour modifier une cellule 'Markdown', double-cliquez dessus*\n",
    "\n",
    "---"
   ]
  },
  {
   "cell_type": "markdown",
   "metadata": {},
   "source": [
    "## I - Préparation de l'espace de travail\n",
    "\n",
    "Ceci est un jupyter notebook en R, ce qui signifie que les commandes seront des commandes R directement interprétables par Plasma. \n",
    "Comme pour tout projet en R, nous devons d'abord choisir le répertoire de travail. Par défaut, ce sera celui de l'environnement déployé lors de l'ouverture du TP.\n",
    "Puis nous devons indiquer à R les paquets à charger qui seront nécessaires pour l'analyse. \n"
   ]
  },
  {
   "cell_type": "code",
   "execution_count": null,
   "metadata": {},
   "outputs": [],
   "source": [
    "# Le répertoire de travail est d'office attribué au répertoire de l'environnement par Jupyter Hub\n",
    "# setwd(\"~/m1meg-ue1-tp5-r/\")"
   ]
  },
  {
   "cell_type": "code",
   "execution_count": null,
   "metadata": {},
   "outputs": [],
   "source": [
    "# Chargement des packages dans l'environnement présent\n",
    "library(Matrix)\n",
    "library(lattice)\n",
    "library(fdrtool)\n",
    "library(rpart)\n",
    "library(Biobase)\n",
    "library(Biostrings)\n",
    "library(mouse4302cdf)\n",
    "library(ggplot2)\n",
    "library(limma)\n",
    "library(affy)\n",
    "library(affyPLM)\n",
    "library(simpleaffy)\n",
    "library(genefilter)"
   ]
  },
  {
   "cell_type": "markdown",
   "metadata": {},
   "source": [
    "Nous pouvons vérifier ces éléments avec les commandes suivantes : "
   ]
  },
  {
   "cell_type": "code",
   "execution_count": null,
   "metadata": {},
   "outputs": [],
   "source": [
    "getwd()\n",
    "sessionInfo()"
   ]
  },
  {
   "cell_type": "markdown",
   "metadata": {},
   "source": [
    "## II - Analyse des puces \n",
    "\n",
    "Nous allons analyser un ensemble de données d’expression, obtenues sur puces d’expression de type Affymetrix. Il s’agit d’une portion de la série **GSE12989**, accessible par une des deux bases de données d’expression génique (“repository”) : Gene Expression Omnibus (GEO) http://www.ncbi.nlm.nih.gov/geo/\n",
    "Sur GEO, un ensemble d'échantillons composent une **Série**, avec un identifiant commençant par GSE.\n",
    "\n",
    "Ouvrez le lien https://www.ncbi.nlm.nih.gov/geo/query/acc.cgi?acc=GSE12989\n",
    "\n",
    "La description de la série indique :\n",
    "\n",
    "Status \t\t\tPublic on Jun 24, 2009\n",
    "Title \t\t\tFoxl2 functions throughout mouse ovary development\n",
    "Organism \t\tMus musculus\n",
    "Experiment type \tExpression profiling by array\n",
    "Summary \t\tThis SuperSeries is composed of the following subset Series:\n",
    "- GSE12905: Foxl2 functions in sex determination and histogenesis throughout mouse ovary development, analyzed by Affymetrix arrays\n",
    "- GSE12942: Foxl2 functions in sex determination and histogenesis throughout mouse ovary development, analyzed by Agilent arrays\n",
    "Citation(s) \n",
    "•\tGarcia-Ortiz JE, Pelosi E, Omari S, Nedorezov T et al. Foxl2 functions in sex determination and histogenesis throughout mouse ovary development. BMC Dev Biol 2009 Jun 18;9:36. PMID: 19538736\n",
    "\n",
    "Les puces Affymetrix utilisées dans le subset GSE12905 suivent la plateforme (design de la puce) GPL1261, c’est à dire le Affymetrix Mouse Genome 430 2.0 Array (nom commercial de la puce).\n"
   ]
  },
  {
   "cell_type": "markdown",
   "metadata": {},
   "source": [
    "> <mark>**Question 1 :**<mark>  \n",
    "> Combien d’échantillons analysés avec cette puce sont présents dans GEO ? "
   ]
  },
  {
   "cell_type": "markdown",
   "metadata": {},
   "source": [
    "*Double-cliquez ici pour entrer votre réponse ou des notes*"
   ]
  },
  {
   "cell_type": "markdown",
   "metadata": {},
   "source": [
    "### 1 - Récupération des données\n",
    "\n",
    "Les fichiers CEL qui nous intéressent ont déjà été télécharchés sur Plasmabio. Il suffit donc d'indiquer à R où aller les chercher, et stocker cette information dans la variable *celpath*\n"
   ]
  },
  {
   "cell_type": "code",
   "execution_count": null,
   "metadata": {},
   "outputs": [],
   "source": [
    "# Chemin d'accès aux données sur plasmabio :\n",
    "celpath = \"/srv/data/meg-m1-ue1/DataTP5/\""
   ]
  },
  {
   "cell_type": "markdown",
   "metadata": {},
   "source": [
    "Nous allons maintenant charger les données de ces fichiers dans un objet R approprié : AffyBatch"
   ]
  },
  {
   "cell_type": "code",
   "execution_count": null,
   "metadata": {},
   "outputs": [],
   "source": [
    "# Import des données d'intensité de fluorescence brutes des sondes depuis les fichiers CEL, \n",
    "# et ajout dans un objet R AffyBatch\n",
    "data = ReadAffy(celfile.path=celpath)"
   ]
  },
  {
   "cell_type": "markdown",
   "metadata": {},
   "source": [
    "Cet objet AffyBatch est accessible via des méthodes contenues dans le package affy."
   ]
  },
  {
   "cell_type": "code",
   "execution_count": null,
   "metadata": {},
   "outputs": [],
   "source": [
    "# Récupération de l'annotation des échantillons\n",
    "ph = data@phenoData\n",
    "ph\n",
    "ph@data"
   ]
  },
  {
   "cell_type": "markdown",
   "metadata": {},
   "source": [
    "> <mark>**Question 2 :**<mark>  \n",
    "> Combien d’échantillons de testicules et d’ovaires sont présents ? \n",
    "Combien y a t-il de réplicats par stade de développement ? "
   ]
  },
  {
   "cell_type": "markdown",
   "metadata": {},
   "source": [
    "*Double-cliquez ici pour entrer votre réponse ou des notes. Par la suite, il vous suffira de sélectionner la cellule de la question, puis d'ajouter une cellule markdown avec le \"+\" pour entrez vos réponses* "
   ]
  },
  {
   "cell_type": "code",
   "execution_count": null,
   "metadata": {},
   "outputs": [],
   "source": [
    "#Récupération de l'annotation des sondes\n",
    "feat = data@featureData\n",
    "feat\n",
    "feat@data"
   ]
  },
  {
   "cell_type": "code",
   "execution_count": null,
   "metadata": {},
   "outputs": [],
   "source": [
    "# Récupération du nom du fichier CDF associé aux puces\n",
    "cdfName(data)"
   ]
  },
  {
   "cell_type": "code",
   "execution_count": null,
   "metadata": {},
   "outputs": [],
   "source": [
    "# Récupération du nombre de probe sets représentés sur les puces\n",
    "# (La fonction length() compte le nombre d'items dans un vecteur)\n",
    "length(featureNames(data))"
   ]
  },
  {
   "cell_type": "markdown",
   "metadata": {},
   "source": [
    "> <mark>**Question 3 :**<mark>  \n",
    "> Combien de probes sets sont analysés grâce à cette puce ? "
   ]
  },
  {
   "cell_type": "markdown",
   "metadata": {},
   "source": [
    "\n",
    "### 2 - Contrôle qualité des données de puces\n",
    "\n",
    "Nous commençons par attribuerdes noms un peu plus gérables aux échantillons :\n"
   ]
  },
  {
   "cell_type": "code",
   "execution_count": null,
   "metadata": {},
   "outputs": [],
   "source": [
    "# Attribution de noms informatifs aux échantillons\n",
    "ph@data[ ,1] = c(\"Testis_E13_1\",\"Testis_E13_2\",\"Testis_E13_3\",\"Testis_P0_1\",\"Testis_P0_2\",\"Testis_P0_3\",\"Ovary_E13_1\",\"Ovary_E13_2\",\"Ovary_E13_3\", \"Ovary_P0_1\", \"Ovary_P0_2\", \"Ovary_P0_3\")\n",
    "ph@data"
   ]
  },
  {
   "cell_type": "markdown",
   "metadata": {},
   "source": [
    "#### Histogrammes de distribution des données \n",
    "Puis nous créons 2 histogrammes de la distribution des données (avec ggplot2).\n",
    "Le premier affiche la répartition des données brutes, le second celle des valeurs passées en log2."
   ]
  },
  {
   "cell_type": "code",
   "execution_count": null,
   "metadata": {},
   "outputs": [],
   "source": [
    "# Récupérations des intensités PM (sondes Perfect Match dans les probe sets)\n",
    "pmexp = pm(data)\n",
    "\n",
    "# La méthode dim() fournit le nombre d'éléments dans la matrice, \n",
    "# c'est à dire le nomdre de sondes (lignes) et le nombre d'échantillons (colonnes)\n",
    "dim(pmexp)"
   ]
  },
  {
   "cell_type": "markdown",
   "metadata": {},
   "source": [
    "On crée des vecteurs qui vont nous servir comme colonnes de la dataframe pour les histogrammes\n",
    "  - un pour y mettre les noms des échantillons, appelé **sampleNames**\n",
    "  - un pour y stocker les intensités de fluorescences brutes, applelé **nologs**\n",
    "  - un pour y stocker les intensités passées en log2, appelé **logs**"
   ]
  },
  {
   "cell_type": "code",
   "execution_count": null,
   "metadata": {},
   "outputs": [],
   "source": [
    "# initialisation de 3 vecteurs\n",
    "sampleNames = vector()\n",
    "nologs = vector()\n",
    "logs = vector()\n",
    "\n",
    "# remplissage des vecteurs avec les données\n",
    "for (i in 1:12)\n",
    "{\n",
    "  sampleNames = c(sampleNames,rep(ph@data[i,1],dim(pmexp)[1]))\n",
    "  nologs = c(nologs, pmexp[,i])\n",
    "  logs = c(logs,log2(pmexp[,i]))\n",
    "}\n",
    "\n",
    "# Vérification avec les premières valeurs\n",
    "nologs[1:10]\n",
    "logs[1:10]"
   ]
  },
  {
   "cell_type": "code",
   "execution_count": null,
   "metadata": {},
   "outputs": [],
   "source": [
    "# Après avoir rempli les vecteurs, nous combinons sampleNames et nologs ou logs dans 2 dataframes\n",
    "nologData = data.frame(nologInt=nologs,sampleName=sampleNames)\n",
    "logData = data.frame(logInt=logs,sampleName=sampleNames)\n",
    "\n",
    "# Vérification avec les premières valeurs\n",
    "nologData[1:5,]\n",
    "logData[1:5,]\n",
    "\n",
    "dim(nologData)\n",
    "dim(logData)\n"
   ]
  },
  {
   "cell_type": "code",
   "execution_count": null,
   "metadata": {},
   "outputs": [],
   "source": [
    "# Maintenant nous pouvons créer les 2 histogrammes: \n",
    "dataHist1 = ggplot(nologData, aes(nologInt, colour = sampleName)) \n",
    "dataHist1 + geom_density()"
   ]
  },
  {
   "cell_type": "code",
   "execution_count": null,
   "metadata": {},
   "outputs": [],
   "source": [
    "# Histogramme avec les valeurs en log2\n",
    "dataHist2 = ggplot(logData, aes(logInt, colour = sampleName)) \n",
    "dataHist2 + geom_density()"
   ]
  },
  {
   "cell_type": "markdown",
   "metadata": {},
   "source": [
    "> <mark>**Question 4 :**<mark>  \n",
    "> Que pouvez-vous dire de la distribution des données ? Vous semble t-elle logique pour des transcriptomes ?"
   ]
  },
  {
   "cell_type": "markdown",
   "metadata": {},
   "source": [
    "#### Boxplots de distribution des données \n",
    "Nous utilisons les mêmes dataframes pour créer 2 boxplots, \n",
    "de façon à comparer la répartition des données entre échantillons\n"
   ]
  },
  {
   "cell_type": "code",
   "execution_count": null,
   "metadata": {},
   "outputs": [],
   "source": [
    "dataBox1 = ggplot(nologData,aes(sampleName,nologInt))\n",
    "dataBox1 + geom_boxplot()"
   ]
  },
  {
   "cell_type": "code",
   "execution_count": null,
   "metadata": {},
   "outputs": [],
   "source": [
    "dataBox2 = ggplot(logData,aes(sampleName,logInt))\n",
    "dataBox2 + geom_boxplot()"
   ]
  },
  {
   "cell_type": "markdown",
   "metadata": {},
   "source": [
    "> <mark>**Question 5 :**<mark>  \n",
    "> Pouvez-vous déterminer si les données ont été normalisées entre puces ou pas ? "
   ]
  },
  {
   "cell_type": "markdown",
   "metadata": {},
   "source": [
    "#### MA plots\n",
    "Les plots MA permettent de visualiser la variablité de l'expression des gènes, et sa répartition en fonction du niveau d'expression.\n",
    "Ici, chaque puce est compré à une pseudo-puce, pour laquelle chaque sonde est associée à la valeur médiane de son intensité dans tous les échantillons.\n",
    "\n",
    "Dans un plot MA, M est figuré en fonction de A :\n",
    "\n",
    "    - M est la différence d'intensité d'une sonde sur la puce testée et l'intensité de cette même sonde sur la pseudo-puce\n",
    "    M = logPMInt_array - logPMInt_pseudoarray\n",
    "    - A est la moyenne des intensités de cette sonde sur la puce testée et sur la pseudo-puce\n",
    "    A = (logPMInt_array + logPMInt_pseudoarray)/2   \n",
    "    \n",
    "(les plots se créent dans des fichier séparés, colonne de gauche)"
   ]
  },
  {
   "cell_type": "code",
   "execution_count": null,
   "metadata": {},
   "outputs": [],
   "source": [
    "# Création des MA plots pour chaque échantillon.\n",
    "for (i in 1:12)\n",
    "{\n",
    "  name = paste(\"MAplot\",i,\".jpg\",sep=\"\")\n",
    "  jpeg(name)\n",
    "  MAplot(data,which=i)\n",
    "  dev.off()\n",
    "}\n"
   ]
  },
  {
   "cell_type": "markdown",
   "metadata": {},
   "source": [
    "Ouvrez les MA plots et examinez-les.\n",
    "\n",
    "> <mark>**Question 6 :**<mark>  \n",
    "> Que pouvez-vous constater ? Pensez-vous qu'il faille normaliser les donnéees ?"
   ]
  },
  {
   "cell_type": "markdown",
   "metadata": {},
   "source": [
    "### 3 - Normalisation des données\n",
    "Méthode GCRMA\n",
    "The standard method for normalization is RMA. RMA is one of the few normalization methods that only uses the PM probes:\n",
    "   - Background correction to correct for spatial variation within individual arrays: a background-corrected intensity is calculated for each PM probe in such a way that all background corrected intensities are positive\n",
    "   - Log transformation to improve the distribution of the data: the base-2 logarithm of the background corrected intensity is calculated for each probe. \n",
    "     The log transformation will make the data less skewed and more normally distributed and provide an equal spread of up- and downregulated expression ratios\n",
    "   - Quantile normalization to correct for variation between the arrays: equalizes the data distributions of the arrays and make the samples completely comparable\n",
    "   - Probe normalization to correct for variation within probe sets: equalizes the behavior of the probes between the arrays and combines normalized data values of probes from a probe set into a single value for the whole probe set\n",
    "\n",
    "GCRMA is based on RMA, having all the good sides of RMA. \n",
    "The difference lies in the background correction, all other steps are the same. \n",
    "GCRMA corrects for non-specific binding to the probes in contrast to RMA which completely ignores the issue of non-specific binding.\n",
    "GCRMA uses probe sequence information (hence \"GC\")to estimate probe affinity to non-specific binding. "
   ]
  },
  {
   "cell_type": "markdown",
   "metadata": {},
   "source": [
    "*Normalement, nous utiliserions la méthode gcrma directement dans R, grâce à cette commande : \n",
    "library(\"gcrma\")\n",
    "data.gcrma = gcrma(data)*\n",
    "\n",
    "*Pour des raisons techniques en cours de résolution, cela ne marche pas actuellement sur Plasma.*\n",
    "\n",
    "*Nous allons donc charger directement le résultat de la normalisation pour la suite de l'analyse*\n"
   ]
  },
  {
   "cell_type": "code",
   "execution_count": null,
   "metadata": {},
   "outputs": [],
   "source": [
    "# Chargement de la library, nécessaire pour la suite\n",
    "# library(\"gcrma\")\n",
    "\n",
    "# Chargement de l'objet \"data_gcrma.RData\", pour le réintégrer dans la procédure d'analyse\n",
    "load(\"data_gcrma.RData\")"
   ]
  },
  {
   "cell_type": "markdown",
   "metadata": {},
   "source": [
    "Nous allons maintenant vérifier l'effet de la normalisation "
   ]
  },
  {
   "cell_type": "code",
   "execution_count": null,
   "metadata": {},
   "outputs": [],
   "source": [
    "# Box plots des valeurs normalisées\n",
    "# création d'une data frame avec seulement les valeurs d'expression normalisées\n",
    "normexpr.gcrma = data.frame(exprs(data.gcrma))\n",
    "normexpr.gcrma[1:5,]\n",
    "\n",
    "\n",
    "# initialisation des vecteurs\n",
    "sampleNames = vector()\n",
    "normlogs = vector()\n",
    "\n",
    "# remplissage des vecteurs\n",
    "for (i in 1:12)\n",
    "{\n",
    "    sampleNames = c(sampleNames,rep(ph@data[i,1],dim(data.gcrma)[1]))\n",
    "    normlogs = c(normlogs,normexpr.gcrma[,i])\n",
    "}\n",
    "\n",
    "normlogs[1:10]\n",
    "\n",
    "# création de la dataframe avec les 2 vecteurs\n",
    "normData = data.frame(norm_logInt=normlogs,sampleName=sampleNames)\n",
    "normData[1:5,]\n",
    "\n",
    "# création des graphs\n",
    "dataBox3 = ggplot(normData, aes(sampleName,norm_logInt))\n",
    "dataBox3 + geom_boxplot() + ylim(2,16) + ggtitle(\"after normalization\")\n"
   ]
  },
  {
   "cell_type": "markdown",
   "metadata": {},
   "source": [
    "> <mark>**Question 7 :**<mark>\n",
    "Que pouvez-vous constater ? Pensez-vous que la normalisation entre échantillons a fonctionné ?"
   ]
  },
  {
   "cell_type": "markdown",
   "metadata": {},
   "source": [
    "Pour voir ce que la normalisation a fait aux données de chaque échantillon, nous allons refaire les MA plots."
   ]
  },
  {
   "cell_type": "code",
   "execution_count": null,
   "metadata": {},
   "outputs": [],
   "source": [
    "# MAplots des données normalisées \n",
    "\n",
    "for (i in 1:12)\n",
    "{\n",
    "  name = paste(\"MAplot-normData\",i,\".jpg\",sep=\"\")\n",
    "  jpeg(name)\n",
    "  MAplot(data.gcrma,which=i)\n",
    "  dev.off()\n",
    "}\n"
   ]
  },
  {
   "cell_type": "markdown",
   "metadata": {},
   "source": [
    "> <mark>**Question 8 :**<mark>\n",
    "Qu'en pensez-vous ?"
   ]
  },
  {
   "cell_type": "markdown",
   "metadata": {},
   "source": [
    "### 4 - Groupement des échantillons : PCA\n",
    "\n",
    "Pour voir si les échantillons se regroupent de façon cohérente, nous allons tenter une analyse PCA (Principal omponant Analysis).  \n",
    "Cette analyse vous sera expliquée plus en détail lors du TP PCA de l'UE5 (avec Fabien Fauchereau)\n"
   ]
  },
  {
   "cell_type": "code",
   "execution_count": null,
   "metadata": {},
   "outputs": [],
   "source": [
    "# PCA plot\n",
    "\n",
    "color=c('green','green','green','blue','blue','blue', 'red','red','red', 'orange', 'orange', 'orange' )\n",
    "data.PCA = prcomp(t(normexpr.gcrma),scale.=FALSE)\n",
    "plot(data.PCA$x[1:12],col=color)\n"
   ]
  },
  {
   "cell_type": "markdown",
   "metadata": {},
   "source": [
    "> <mark>**Question 8 :**<mark>  \n",
    ">Que pensez-vous de la répartition des réplicats ?"
   ]
  },
  {
   "cell_type": "markdown",
   "metadata": {},
   "source": [
    "\n",
    "### 5 - Identification des gènes DE (Différentiellement Exprimés)\n",
    "\n",
    "Nous allons maintenant identifier les gènes dont l'expression varie entre les conditions.   \n",
    "Nous allons d'abord effectuer une comparaison simple entre 2 groupes, ici le sexe gonadique.  \n",
    "Nous attribuons à chaque échantillon sa valeur selon ce critère (\"Testis\" ou \"Ovary\"), puis nous indiquons à R que c'est cet élément qui va nous servir de facteur de comparaison.  \n",
    "Puis une matrice de contraste est créée pour comparer les 2 groupes.\n"
   ]
  },
  {
   "cell_type": "code",
   "execution_count": null,
   "metadata": {},
   "outputs": [],
   "source": [
    "# Comparaison simple entre 2 groupes\n",
    "\n",
    "# Ajout d'une colonne pour caractériser les échantillons\n",
    "ph@data[ ,2] = c(\"Testis\",\"Testis\",\"Testis\",\"Testis\",\"Testis\",\"Testis\", \"Ovary\", \"Ovary\", \"Ovary\", \"Ovary\", \"Ovary\", \"Ovary\")\n",
    "colnames(ph@data)[2]=\"SexGonad\"\n",
    "\n",
    "# On vérifie que le facteur a été correctement attribué\n",
    "ph@data\n",
    "\n",
    "# On forme les 2 groupes\n",
    "groups = ph@data$SexGonad\n",
    "\n",
    "f = factor(groups,levels=c(\"Testis\",\"Ovary\"))\n",
    "\n",
    "design = model.matrix(~0 + f)\n",
    "colnames(design) = c(\"Testis\",\"Ovary\")\n",
    "\n",
    "data.fit = lmFit(data.gcrma,design)\n",
    "\n",
    "# montre les 10 premières valeurs dans les 2 groupes\n",
    "data.fit$coefficients[1:10,]\n",
    "\n",
    "contrast.matrix = makeContrasts(Ovary-Testis,levels=design)\n",
    "data.fit.con = contrasts.fit(data.fit,contrast.matrix)\n",
    "data.fit.eb = eBayes(data.fit.con)\n"
   ]
  },
  {
   "cell_type": "markdown",
   "metadata": {},
   "source": [
    "On affiche ensuite les résultats pour les 10 gènes les plus significativement différents :"
   ]
  },
  {
   "cell_type": "code",
   "execution_count": null,
   "metadata": {},
   "outputs": [],
   "source": [
    "# indique le noms des colonnes dans la matrice de résultats\n",
    "names(data.fit.eb)\n",
    "\n",
    "# montre les p-values associées au test pour les 10 premiers gènes\n",
    "data.fit.eb$p.value[1:10,]"
   ]
  },
  {
   "cell_type": "markdown",
   "metadata": {},
   "source": [
    "On peut visualiser les p-values obtenues avec un **Volcano Plot**  \n",
    "(se crée aussi dans un fichier séparé, colonne de gauche)"
   ]
  },
  {
   "cell_type": "code",
   "execution_count": null,
   "metadata": {},
   "outputs": [],
   "source": [
    "\n",
    "# Volcano plot\n",
    "name = \"Volcano1.jpg\"\n",
    "jpeg(name)\n",
    "volcanoplot(data.fit.eb,coef=1,highlight=50, style = \"p-value\", xlab = \"log2 Fold Change\", ylab = \"-log10 p\", names = NULL, hl.col = \"blue\")\n",
    "dev.off()\n"
   ]
  },
  {
   "cell_type": "markdown",
   "metadata": {},
   "source": [
    "><mark>**Question 9 :**<mark>  \n",
    ">    Pensez-vous que les p-values soient interprétables directement ? Quelle étape importante doit d'abord être effectuée ?"
   ]
  },
  {
   "cell_type": "markdown",
   "metadata": {},
   "source": [
    "### Correction des p-values pour les tests multiples\n",
    "The topTable() method returns a table ranking the genes according to evidence for differential expression.  \n",
    "Additionally, the topTable() method will adjust the p-value obtained from the moderated t-test for multiple testing. \n",
    "The adjustment method is defined by the adjust.method argument. In this case, the adjustment is done using BH which is Benjamini and Hochberg's method to control the FDR.\n"
   ]
  },
  {
   "cell_type": "code",
   "execution_count": null,
   "metadata": {},
   "outputs": [],
   "source": [
    "options(digits=2)\n",
    "tab = topTable(data.fit.eb,coef=1,number=5000,adjust.method=\"BH\")\n",
    "\n",
    "tab[1:10,]\n",
    "\n",
    "# la colonne B indique le log odds scores, \n",
    "# c'est à dire le logarithme de la vraisemblance de la DE par rapport à l'hypothèse nulle\n",
    "# (ratio des vraisemblances, transformée en log).\n",
    "# Souvenez-vous des cours et TP sur la méthode des lod-scores en génétique humaine de L3 !)\n"
   ]
  },
  {
   "cell_type": "markdown",
   "metadata": {},
   "source": [
    "On peut se servir de la même fonction topTable() pour sélectionner les gènes selon des seuils, par exemple de p-value"
   ]
  },
  {
   "cell_type": "code",
   "execution_count": null,
   "metadata": {},
   "outputs": [],
   "source": [
    "# Sélection des gènes selon la adjusted p-value, sous un certain seuil\n",
    "\n",
    "topgenesAdjP = tab[tab[, \"adj.P.Val\"] < 0.01, ]\n",
    "\n",
    "# nombre de gènes correpsondant au critère :\n",
    "dim(topgenesAdjP)[1]\n",
    "\n",
    "topgenesAdjP[1:10,]\n",
    "\n"
   ]
  },
  {
   "cell_type": "markdown",
   "metadata": {},
   "source": [
    "><mark>**Question 9 :**<mark>  \n",
    ">    Indiquez le nombre de gènes qui sont en dessous des seuils de p-value suivants :  \n",
    ">     adj p < 0.05  \n",
    ">     adj p < 0.01  \n",
    ">     adj p < 0.001  "
   ]
  },
  {
   "cell_type": "code",
   "execution_count": null,
   "metadata": {},
   "outputs": [],
   "source": [
    "# pour séparer les gènes up- and down-regulated, on inclut un seuil sur le log fold change :\n",
    "  \n",
    "topUpAdjP = topgenesAdjP[topgenesAdjP[, \"logFC\"] > 1, ]\n",
    "dim(topUpAdjP)[1]\n",
    "topDownAdjP = topgenesAdjP[topgenesAdjP[, \"logFC\"] < -1, ]\n",
    "dim(topDownAdjP)[1]\n"
   ]
  },
  {
   "cell_type": "markdown",
   "metadata": {},
   "source": [
    "><mark>**Question 10 :**<mark>  \n",
    ">    Pour chacun des seuilsde p-value précédents, indiquez le nombre de gènes up et down-régulés"
   ]
  },
  {
   "cell_type": "markdown",
   "metadata": {},
   "source": [
    "><mark>**Question 11 :**<mark>  \n",
    ">    Est-ce que l'identification de ces gènes DE nous permet de capturer la totalité des variations des transcriptomes dans ces échantillons ?  \n",
    "> Quel autre facteur n'a pas été pris en compte ?  \n",
    "> Pensez-vous qu'une analyse entre 2 groupes en factorisant par ce 2ème facteur suffise ?"
   ]
  },
  {
   "cell_type": "markdown",
   "metadata": {},
   "source": [
    "### Analyse ANOVA\n",
    "En fait nous avons réellement 4 groupes, et il vaut mieux utiliser un test statistique plus fin pour bien voir les différences entre ces 4 groupes.\n",
    "Une ANOVA à 2 facteurs est le bon choix ici. Cette méthode permet de tester l'effet de chaque facteur ainsi que de leur éventuelle interaction.  \n",
    "Nous commençons par redéfinir des groupes, mais ce coup-ci, en établissant 2 facteurs   \n",
    " - fs : facteur Sexe Gonadique\n",
    " - fd : facteur de stades de développement  \n",
    "Chacun des 2 facteurs possèdent 2 niveaux (on pourrait donc en spécifier plus si nécessaire, par exemple pour les stades de développement).  \n",
    "On effectue ensuite l'analyse en disant que l'on veut l'effet des 2 facteurs et leur interaction (sigen * dans la fonction model.matrix().  \n",
    "\n"
   ]
  },
  {
   "cell_type": "code",
   "execution_count": null,
   "metadata": {},
   "outputs": [],
   "source": [
    "ph@data[ ,3] = c(\"Testis\",\"Testis\",\"Testis\",\"Testis\",\"Testis\",\"Testis\", \"Ovary\", \"Ovary\", \"Ovary\", \"Ovary\", \"Ovary\", \"Ovary\")\n",
    "colnames(ph@data)[3]=\"GonadSex\"\n",
    "ph@data[ ,4] = c(\"E13\",\"E13\",\"E13\",\"P0\",\"P0\",\"P0\", \"E13\", \"E13\", \"E13\", \"P0\", \"P0\", \"P0\")\n",
    "colnames(ph@data)[4]=\"DevStage\"\n",
    "ph@data\n",
    "\n",
    "groupsS = ph@data$GonadSex \n",
    "groupsD = ph@data$DevStage\n",
    "fs = factor(groupsS,levels=c(\"Testis\",\"Ovary\"))\n",
    "fd = factor(groupsD,levels=c(\"E13\",\"P0\"))\n",
    "\n",
    "factored.design = model.matrix(~fs*fd)\n",
    "data.fit4 = lmFit(data.gcrma,factored.design)\n",
    "\n",
    "# Affichage des résultats :\n",
    "# data.fit4[1:10,]\n",
    "# Lmfit() will fit a linear model to the data. It will create a data frame called data.fit4 containing 4 columns:\n",
    "#   the first column contains the intercept of the linear model: it's the mean log expression in the testis samples\n",
    "#   the second column compares Ovary samples with Testis\n",
    "#   the third column compares P0 with E13\n",
    "#   the fourth column contains the interaction showing you if the genes that respond to the gonadal sex are influenced by the developmental stage\n",
    "\n",
    "# Performing the two-factor ANOVA is now done using eBayes(). \n",
    "data.fit.eb4 = eBayes(data.fit4)\n",
    "\n",
    "# Affichage des p-value pour chacun des facteurs et leur interactions, pour les 15 premiers gènes\n",
    "data.fit.eb4$p.value[1:15,1:4]\n"
   ]
  },
  {
   "cell_type": "markdown",
   "metadata": {},
   "source": [
    "La correction des tests multiples s'effectue ici avec une autre fonction : decideTests()  \n",
    "On peut là aussi spécifier des seuils pour ne garder que les gènes à considérer comme DE.  \n",
    "La fonction retourne alors des valeurs 0, 1, -1 selon que le gène remplit les critères de sélection."
   ]
  },
  {
   "cell_type": "code",
   "execution_count": null,
   "metadata": {},
   "outputs": [],
   "source": [
    "# Correction des tests multiples avec une comparaison multiple (i.e une 2-way ANOVA)\n",
    "# The decideTests() method will perform multiple testing adjustment on these p-values. \n",
    "# Additionally, it will evaluate for each gene whether the results data.fit.eb fulfill the criteria for differential expression that you specify.\n",
    "# For each gene and each comparison it will generate the following output:\n",
    "#   -1: significantly downregulated\n",
    "#    0: no significant evidence of differential expression\n",
    "#    1: significantly upregulated\n",
    "# The p.value argument specifies the FDR and the lfc argument specifies the minimal fold change that is required to be considered DE.\n",
    "\n",
    "DEresults = decideTests(data.fit.eb4,method='global',adjust.method=\"BH\",p.value=0.05,lfc=1)\n",
    "DEresults[1:10,]\n",
    "\n",
    "DEresultsStrict = decideTests(data.fit.eb4,method='global',adjust.method=\"BH\",p.value=0.01,lfc=2)\n",
    "DEresultsStrict[1:10,]"
   ]
  },
  {
   "cell_type": "markdown",
   "metadata": {},
   "source": [
    "### Diagramme de Venn\n",
    "\n",
    "Pour terminer, on peut afficher des diagrammes de Venn qui montrent comment se répartissent les gènes DE selon les facteurs considérés."
   ]
  },
  {
   "cell_type": "code",
   "execution_count": null,
   "metadata": {},
   "outputs": [],
   "source": [
    "# Diagramme de Venn des gènes DE\n",
    "# \"both\" for all differentially expressed genes, \"up\" for up-regulated genes only or \"down\" for down-regulated genes only.\n",
    "\n",
    "vennDiagram(DEresults[,2:4], include=\"down\", names= c(\"Gonad Sex\", \"Dev Stage\", \"Interaction\"), counts.col=c(\"black\"), circle.col = c(\"red\", \"blue\", \"green3\"))\n",
    "vennDiagram(DEresultsStrict[,2:4], include=\"up\", names= c(\"Gonad Sex\", \"Dev Stage\", \"Interaction\"), counts.col=\"red\", circle.col = c(\"red\", \"blue\", \"green3\"))\n",
    "\n"
   ]
  },
  {
   "cell_type": "markdown",
   "metadata": {},
   "source": [
    "><mark>**Question 12 :**<mark>   \n",
    "> <mark>   Reprenez et modifiez le code dess cellules précedentes de façon à produire un diagramme de Venn :  <mark>  \n",
    "> <mark>  - sur les gènes avec une adj pvalue < 0.01  <mark>  \n",
    "> <mark>  - et avec un log fold change supérieur à 1.5      <mark>                                     \n",
    "> <mark>  - les gènes up et down-régulés   <mark>  \n",
    "> <mark>  - avec l'écriture des comptages en rouge  <mark> \n",
    "  "
   ]
  },
  {
   "cell_type": "code",
   "execution_count": null,
   "metadata": {},
   "outputs": [],
   "source": [
    "# rentrez ici le code modifié pour répondre à la question 12\n",
    "\n"
   ]
  },
  {
   "cell_type": "markdown",
   "metadata": {},
   "source": [
    "><mark>**Question 13 :**<mark>   \n",
    "> Combien de gènes sont DE à la fois selon le sexe et le stade de développement ?  \n",
    "> Combien de gènes ont leur expression modifiée selon le stade de développemnt, mais différemment selon le sexe ?"
   ]
  }
 ],
 "metadata": {
  "kernelspec": {
   "display_name": "R",
   "language": "R",
   "name": "ir"
  },
  "language_info": {
   "codemirror_mode": "r",
   "file_extension": ".r",
   "mimetype": "text/x-r-source",
   "name": "R",
   "pygments_lexer": "r",
   "version": "3.6.1"
  }
 },
 "nbformat": 4,
 "nbformat_minor": 4
}
